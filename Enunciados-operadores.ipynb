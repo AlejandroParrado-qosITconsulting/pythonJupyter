{
 "cells": [
  {
   "cell_type": "markdown",
   "metadata": {},
   "source": [
    "# Tema 02: Operadores y expresiones (Enunciados)\n",
    "*Nota: Estos ejercicios son optativos para hacer al final de la unidad y están pensados para apoyar tu aprendizaje*."
   ]
  },
  {
   "cell_type": "markdown",
   "metadata": {},
   "source": [
    "**1) Realiza un programa que lea 2 números por teclado y determine los siguientes aspectos (es suficiene con mostrar True o False):**\n",
    "* Si los dos números son iguales\n",
    "* Si los dos números son diferentes\n",
    "* Si el primero es mayor que el segundo\n",
    "* Si el segundo es mayor o igual que el primero"
   ]
  },
  {
   "cell_type": "code",
   "execution_count": 20,
   "metadata": {},
   "outputs": [
    {
     "name": "stdout",
     "output_type": "stream",
     "text": [
      "Son los dos números iguales: True\n",
      "Son los dos números diferentes: False\n",
      "El primero es mayor que el segundo: False\n",
      "El segundo es mayor o igual que el primero: True\n"
     ]
    }
   ],
   "source": [
    "n1 = int(input(\"Introduzca un número entero: \"))\n",
    "n2 = int(input(\"Introduzca otro número entero: \"))\n",
    "\n",
    "print(f\"Son los dos números iguales: {n1 == n2}\")\n",
    "print(f\"Son los dos números diferentes: {n1 != n2}\")\n",
    "print(f\"El primero es mayor que el segundo: {n1 > n2}\")\n",
    "print(f\"El segundo es mayor o igual que el primero: {n2 >= n1}\")"
   ]
  },
  {
   "cell_type": "markdown",
   "metadata": {},
   "source": [
    "**2) Utilizando operadores lógicos, determina si una cadena de texto introducida por el usuario tiene una longitud mayor o igual que 3 y a su vez es menor que 10 (es suficiene con mostrar True o False):**"
   ]
  },
  {
   "cell_type": "code",
   "execution_count": null,
   "metadata": {},
   "outputs": [
    {
     "name": "stdout",
     "output_type": "stream",
     "text": [
      "El numero es mayor o igual que 3 y menor que 10: True\n"
     ]
    }
   ],
   "source": [
    "txt = str(input(\"Introduzca un texto: \"))\n",
    "\n",
    "print (f\"El texto tiene entre 3 y 9 caracteres: {len(txt) >= 3 and len(txt) < 10}\")"
   ]
  },
  {
   "cell_type": "markdown",
   "metadata": {},
   "source": [
    "**3) Realiza un programa que cumpla el siguiente algoritmo utilizando siempre que sea posible operadores en asignación:**\n",
    "* Guarda en una variable numero_magico el valor 12345679 (sin el 8)\n",
    "* Lee por pantalla otro numero_usuario, especifica que sea entre 1 y 9 (asegúrate que es un número)\n",
    "* Multiplica el numero_usuario por 9 en sí mismo\n",
    "* Multiplica el numero_magico por el numero_usuario en sí mismo\n",
    "* Finalmente muestra el valor final del numero_magico por pantalla\n"
   ]
  },
  {
   "cell_type": "code",
   "execution_count": 36,
   "metadata": {},
   "outputs": [
    {
     "name": "stdout",
     "output_type": "stream",
     "text": [
      "El número magico es 999999999\n"
     ]
    }
   ],
   "source": [
    "try:\n",
    "    numero_magico = 12345679\n",
    "    \n",
    "    while True:\n",
    "        numero_usuario = int(input(\"Introduce un número (1-9): \"))\n",
    "        if numero_usuario > 0 and numero_usuario < 10:\n",
    "            break    \n",
    "        print(\"Número inválido, debe introducir un número entre 1 y 9.\")\n",
    "\n",
    "    numero_usuario *= 9\n",
    "    numero_magico *= numero_usuario\n",
    "\n",
    "\n",
    "    print (f\"El número magico es {numero_magico}\")\n",
    "except ValueError:\n",
    "    print (\"Debe introducir un número valido\")"
   ]
  }
 ],
 "metadata": {
  "anaconda-cloud": {},
  "kernelspec": {
   "display_name": "base",
   "language": "python",
   "name": "python3"
  },
  "language_info": {
   "codemirror_mode": {
    "name": "ipython",
    "version": 3
   },
   "file_extension": ".py",
   "mimetype": "text/x-python",
   "name": "python",
   "nbconvert_exporter": "python",
   "pygments_lexer": "ipython3",
   "version": "3.12.3"
  }
 },
 "nbformat": 4,
 "nbformat_minor": 2
}
