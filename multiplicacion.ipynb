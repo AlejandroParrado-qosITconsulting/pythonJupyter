{
 "cells": [
  {
   "cell_type": "code",
   "execution_count": 1,
   "metadata": {},
   "outputs": [
    {
     "name": "stdout",
     "output_type": "stream",
     "text": [
      "5535\n"
     ]
    }
   ],
   "source": [
    "def multiplicacion(a, b):\n",
    "    a, b = str(a), str(b)\n",
    "    filas = []\n",
    "    \n",
    "    for i, d_b in enumerate(reversed(b)):\n",
    "        acarreo, fila = 0, [0] * i\n",
    "        for d_a in reversed(a):\n",
    "            prod = int(d_a) * int(d_b) + acarreo\n",
    "            fila.append(prod % 10)\n",
    "            acarreo = prod // 10\n",
    "        if acarreo:\n",
    "            fila.append(acarreo)\n",
    "        filas.append(fila[::-1])\n",
    "    \n",
    "    resultado = [0] * (len(filas[-1]) if filas else 1)\n",
    "    for fila in filas:\n",
    "        for j in range(len(fila)):\n",
    "            resultado[-(j + 1)] += fila[-(j + 1)]\n",
    "    \n",
    "    for i in range(len(resultado) - 1, 0, -1):\n",
    "        if resultado[i] >= 10:\n",
    "            resultado[i - 1] += resultado[i] // 10\n",
    "            resultado[i] %= 10\n",
    "    \n",
    "    return int(\"\".join(map(str, resultado)))\n",
    "\n",
    "print(multiplicacion(123, 45))"
   ]
  }
 ],
 "metadata": {
  "kernelspec": {
   "display_name": "base",
   "language": "python",
   "name": "python3"
  },
  "language_info": {
   "codemirror_mode": {
    "name": "ipython",
    "version": 3
   },
   "file_extension": ".py",
   "mimetype": "text/x-python",
   "name": "python",
   "nbconvert_exporter": "python",
   "pygments_lexer": "ipython3",
   "version": "3.12.3"
  }
 },
 "nbformat": 4,
 "nbformat_minor": 2
}
