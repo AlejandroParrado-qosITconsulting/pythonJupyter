{
 "cells": [
  {
   "cell_type": "markdown",
   "metadata": {},
   "source": [
    "# Tema 03: Control de flujo (Enunciados)\n",
    "*Nota: Estos ejercicios son optativos para hacer al final de la unidad y están pensados para apoyar tu aprendizaje*."
   ]
  },
  {
   "cell_type": "markdown",
   "metadata": {},
   "source": [
    "**1) Realiza un programa que lea dos números por teclado y permita elegir entre 3 opciones en un menú:** \n",
    "* Mostrar una suma de los dos números\n",
    "* Mostrar una resta de los dos números (el primero menos el segundo)\n",
    "* Mostrar una multiplicación de los dos números\n",
    "* En caso de no introducir una opción válida, el programa informará de que no es correcta."
   ]
  },
  {
   "cell_type": "code",
   "execution_count": 55,
   "metadata": {},
   "outputs": [
    {
     "name": "stdout",
     "output_type": "stream",
     "text": [
      "Error: Ingrese un número.\n"
     ]
    }
   ],
   "source": [
    "try:\n",
    "    numero1 = int (input(\"Introduzca el primer numero: \"))\n",
    "    numero2 = int (input(\"Introduzca el segundo numero: \"))\n",
    "    print(\"1. Mostrar una suma de los dos números\")\n",
    "    print(\"2. Mostrar una resta de los dos números (El primero menos el segundo)\")\n",
    "    print(\"3. Mostrar una multiplicacion de los dos números\")\n",
    "    opcion = int (input (\"Eliga una opcion: \"))\n",
    "\n",
    "    if (opcion == 1):\n",
    "        print(f\"La suma de {numero1} + {numero2} es: {numero1 + numero2}\")\n",
    "    elif(opcion == 2):\n",
    "        print(f\"La resta de {numero1} - {numero2} es: {numero1 - numero2}\")\n",
    "    elif(opcion == 3):\n",
    "        print(f\"La multiplicación de {numero1} x {numero2} es: {numero1 * numero2}\")\n",
    "    else:\n",
    "        print(\"Opcion invalida\")\n",
    "        \n",
    "except ValueError:\n",
    "    print(\"Error: Ingrese un número.\")"
   ]
  },
  {
   "cell_type": "markdown",
   "metadata": {},
   "source": [
    "**2) Realiza un programa que lea un número impar por teclado. Si el usuario no introduce un número impar, debe repetise el proceso hasta que lo introduzca correctamente.**"
   ]
  },
  {
   "cell_type": "code",
   "execution_count": 98,
   "metadata": {},
   "outputs": [
    {
     "name": "stdout",
     "output_type": "stream",
     "text": [
      "Correcto, el numero 3 es impar\n"
     ]
    }
   ],
   "source": [
    "numero = int(input(\"Introduzca un numero impar: \"))\n",
    "\n",
    "while (numero % 2 == 0):\n",
    "    numero = int(input(\"Introduzca un numero impar: \"))\n",
    "\n",
    "print (f\"Correcto, el numero {numero} es impar\")"
   ]
  },
  {
   "cell_type": "markdown",
   "metadata": {},
   "source": [
    "**3) Realiza un programa que sume todos los números enteros pares desde el 0 hasta el 100:**\n",
    "\n",
    "*Sugerencia: Puedes utilizar la funciones sum() y range() para hacerlo más fácil. El tercer parámetro en la función range(inicio, fin, salto) indica un salto de números, pruébalo.*"
   ]
  },
  {
   "cell_type": "code",
   "execution_count": 157,
   "metadata": {},
   "outputs": [
    {
     "name": "stdout",
     "output_type": "stream",
     "text": [
      "La suma de los números pares del 0 al 100 es: 2550\n"
     ]
    }
   ],
   "source": [
    "suma = 0\n",
    "num = 0\n",
    "\n",
    "for i in range(0,101):\n",
    "    if num % 2 == 0:\n",
    "        suma += num\n",
    "    num+=1\n",
    "        \n",
    "print (f\"La suma de los números pares del 0 al 100 es: {suma}\")"
   ]
  },
  {
   "cell_type": "code",
   "execution_count": 158,
   "metadata": {},
   "outputs": [
    {
     "name": "stdout",
     "output_type": "stream",
     "text": [
      "La suma de los números pares del 0 al 100 es: 2550\n"
     ]
    }
   ],
   "source": [
    "suma = sum(range(0, 101, 2))\n",
    "print(f\"La suma de los números pares del 0 al 100 es: {suma}\")"
   ]
  },
  {
   "cell_type": "markdown",
   "metadata": {},
   "source": [
    "**4) Realiza un programa que pida al usuario cuantos números quiere introducir. Luego lee todos los números y realiza una media aritmética:**\n"
   ]
  },
  {
   "cell_type": "code",
   "execution_count": 186,
   "metadata": {},
   "outputs": [
    {
     "name": "stdout",
     "output_type": "stream",
     "text": [
      "La media aritmetica de 80 / 4 = 20.0\n"
     ]
    }
   ],
   "source": [
    "total_nums = int(input(\"Cuantos numeros desea introducir: \"))\n",
    "cont = 0\n",
    "s = 0\n",
    "\n",
    "while cont < total_nums:\n",
    "    s += int(input(\"Introduzca un numero: \"))\n",
    "    cont += 1\n",
    "\n",
    "print(f\"La media aritmetica de {s} / {total_nums} = {s / total_nums}\")"
   ]
  },
  {
   "cell_type": "markdown",
   "metadata": {},
   "source": [
    "**5) Realiza un programa que pida al usuario un número entero del 0 al 9, y que mientras el número no sea correcto se repita el proceso. Luego debe comprobar si el número se encuentra en la lista de números y notificarlo:**\n",
    "\n",
    "*Consejo: La sintaxis \"valor in lista\" permite comprobar fácilmente si un valor se encuentra en una lista (devuelve True o False)*"
   ]
  },
  {
   "cell_type": "code",
   "execution_count": 201,
   "metadata": {},
   "outputs": [
    {
     "name": "stdout",
     "output_type": "stream",
     "text": [
      "El numero 1 se encuentra en la lista\n"
     ]
    }
   ],
   "source": [
    "n = int(input(\"Introduzca un numero del 0-9: \"))\n",
    "\n",
    "lista = [0,1,2,3,4,5,6,7,8,9]\n",
    "\n",
    "while n not in lista:\n",
    "\tn = int(input(\"Introduzca un numero del 0-9: \"))\n",
    "\n",
    "print (f\"El numero {n} se encuentra en la lista\")"
   ]
  },
  {
   "cell_type": "markdown",
   "metadata": {},
   "source": [
    "**6) Utilizando la función range() y la conversión a listas genera las siguientes listas dinámicamente:**\n",
    "* Todos los números del 0 al 10 [0, 1, 2, ..., 10]\n",
    "* Todos los números del -10 al 0 [-10, -9, -8, ..., 0]\n",
    "* Todos los números pares del 0 al 20 [0, 2, 4, ..., 20]\n",
    "* Todos los números impares entre -20 y 0 [-19, -17, -15, ..., -1]\n",
    "* Todos los números múltiples de 5 del 0 al 50 [0, 5, 10, ..., 50]\n",
    "\n",
    "*Pista: Utiliza el tercer parámetro de la función range(inicio, fin, salto).*"
   ]
  },
  {
   "cell_type": "code",
   "execution_count": 203,
   "metadata": {},
   "outputs": [
    {
     "name": "stdout",
     "output_type": "stream",
     "text": [
      "[0, 1, 2, 3, 4, 5, 6, 7, 8, 9, 10]\n",
      "[-10, -9, -8, -7, -6, -5, -4, -3, -2, -1, 0]\n",
      "[0, 2, 4, 6, 8, 10, 12, 14, 16, 18, 20]\n",
      "[-19, -17, -15, -13, -11, -9, -7, -5, -3, -1]\n",
      "[0, 5, 10, 15, 20, 25, 30, 35, 40, 45, 50]\n"
     ]
    }
   ],
   "source": [
    "print(list(range(0,11)))#---Todos los números del 0 al 10\n",
    "print(list(range(-10,1,1)))#---Todos los números del -10 al 0\n",
    "print(list(range(0,21,2)))#---Todos los números pares del 0 al 20\n",
    "print(list(range(-19,1,2)))#---Todos los números impares entre -20 y 0\n",
    "print(list(range(0,51,5)))#---Todos los números múltiples de 5 del 0 al 50"
   ]
  },
  {
   "cell_type": "markdown",
   "metadata": {},
   "source": [
    "**7) Dadas dos listas, debes generar una tercera con todos los elementos que se repitan en ellas, pero no debe repetise ningún elemento en la nueva lista:**"
   ]
  },
  {
   "cell_type": "code",
   "execution_count": 206,
   "metadata": {},
   "outputs": [
    {
     "name": "stdout",
     "output_type": "stream",
     "text": [
      "[1, 2, 7, 9]\n"
     ]
    }
   ],
   "source": [
    "lista1 = [1,2,4,5,7,9]\n",
    "lista2 = [1,2,6,7,8,9,10]\n",
    "lista3 = []\n",
    "\n",
    "for i in range(0, len(lista1)): \n",
    "    for j in range(0, len(lista2)):\n",
    "        if lista1[i] == lista2[j]:\n",
    "            if lista1[i] not in lista3:\n",
    "                lista3.append(lista1[i])\n",
    "\n",
    "print(lista3)"
   ]
  }
 ],
 "metadata": {
  "anaconda-cloud": {},
  "kernelspec": {
   "display_name": "base",
   "language": "python",
   "name": "python3"
  },
  "language_info": {
   "codemirror_mode": {
    "name": "ipython",
    "version": 3
   },
   "file_extension": ".py",
   "mimetype": "text/x-python",
   "name": "python",
   "nbconvert_exporter": "python",
   "pygments_lexer": "ipython3",
   "version": "3.12.3"
  }
 },
 "nbformat": 4,
 "nbformat_minor": 4
}
